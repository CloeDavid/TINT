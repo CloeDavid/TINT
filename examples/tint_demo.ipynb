{
 "cells": [
  {
   "cell_type": "markdown",
   "metadata": {},
   "source": [
    "# TINT Demonstration\n"
   ]
  },
  {
   "cell_type": "code",
   "execution_count": null,
   "metadata": {},
   "outputs": [],
   "source": [
    "from matplotlib import pyplot as plt\n",
    "from matplotlib.animation import FuncAnimation\n",
    "from IPython.display import HTML, Image, display\n",
    "import tempfile\n",
    "import os\n",
    "import shutil\n",
    "\n",
    "import pyart\n",
    "from tint.data_utils import get_nexrad_keys, read_nexrad_key\n",
    "from tint import Cell_tracks, animate"
   ]
  },
  {
   "cell_type": "markdown",
   "metadata": {},
   "source": [
    "## Data\n"
   ]
  },
  {
   "cell_type": "code",
   "execution_count": null,
   "metadata": {},
   "outputs": [],
   "source": [
    "# Let's get some nexrad data from Amazon S3\n",
    "keys = get_nexrad_keys('khgx', start='20150704_121000', end='20150704_122500')"
   ]
  },
  {
   "cell_type": "code",
   "execution_count": null,
   "metadata": {
    "collapsed": true
   },
   "outputs": [],
   "source": [
    "# We can visualize this data using pyart\n",
    "fig = plt.figure(figsize=(10, 7))\n",
    "\n",
    "\n",
    "def plot_ppi(key):\n",
    "    plt.clf()\n",
    "    radar = read_nexrad_key(key)\n",
    "    display = pyart.graph.RadarMapDisplay(radar)\n",
    "    display.plot_ppi_map('reflectivity', resolution='l',\n",
    "                         sweep=3, fig=fig, width=200000, height=200000)\n",
    "    del display, radar\n",
    "\n",
    "\n",
    "ppi_anim = FuncAnimation(fig, plot_ppi, frames=keys, interval=1000)\n",
    "HTML(ppi_anim.to_jshtml())"
   ]
  },
  {
   "cell_type": "markdown",
   "metadata": {},
   "source": [
    "### Disclaimer\n",
    "If you don't want this data to remain on your filesystem, make sure you run the last cell in this notebook. If your kernel crashes for some reason, you can manually remove the the path printed after the following cell."
   ]
  },
  {
   "cell_type": "code",
   "execution_count": null,
   "metadata": {},
   "outputs": [],
   "source": [
    "# These radar volumes look interesting.\n",
    "# Let's make a function that maps them to a cartesian grid using pyart.\n",
    "\n",
    "\n",
    "def get_grid(radar):\n",
    "    \"\"\" Returns grid object from radar object. \"\"\"\n",
    "    grid = pyart.map.grid_from_radars(\n",
    "        radar, grid_shape=(20, 200, 200),\n",
    "        grid_limits=((0, 10000), (-100000, 0), (0, 100000)),\n",
    "        fields=['reflectivity'], gridding_algo='map_gates_to_grid')\n",
    "    return grid\n",
    "\n",
    "\n",
    "# Let's write these grids to a temporary location so that we can reuse them.\n",
    "tmp_dir = tempfile.mkdtemp()\n",
    "print('temporary directory:', tmp_dir)\n",
    "filenames = []\n",
    "for num, key in enumerate(keys):\n",
    "    print('saving grid', num)\n",
    "    radar = read_nexrad_key(key)\n",
    "    grid = get_grid(radar)\n",
    "    name = os.path.join(tmp_dir, 'grid_' + str(num).zfill(3) + '.nc')\n",
    "    filenames.append(name)\n",
    "    pyart.io.write_grid(name, grid)\n",
    "    del radar, grid"
   ]
  },
  {
   "cell_type": "code",
   "execution_count": null,
   "metadata": {
    "collapsed": true
   },
   "outputs": [],
   "source": [
    "grids = (pyart.io.read_grid(fn) for fn in filenames)"
   ]
  },
  {
   "cell_type": "markdown",
   "metadata": {},
   "source": [
    "## Let's do some tracking"
   ]
  },
  {
   "cell_type": "code",
   "execution_count": null,
   "metadata": {
    "collapsed": true
   },
   "outputs": [],
   "source": [
    "tracks_obj = Cell_tracks()\n",
    "tracks_obj.params"
   ]
  },
  {
   "cell_type": "code",
   "execution_count": null,
   "metadata": {
    "collapsed": true
   },
   "outputs": [],
   "source": [
    "tracks_obj.get_tracks(grids)"
   ]
  },
  {
   "cell_type": "code",
   "execution_count": null,
   "metadata": {
    "collapsed": true
   },
   "outputs": [],
   "source": [
    "tracks_obj.tracks"
   ]
  },
  {
   "cell_type": "code",
   "execution_count": null,
   "metadata": {
    "collapsed": true
   },
   "outputs": [],
   "source": [
    "# lets make another generator for the animator\n",
    "grids = (pyart.io.read_grid(fn) for fn in filenames)"
   ]
  },
  {
   "cell_type": "code",
   "execution_count": null,
   "metadata": {
    "collapsed": true
   },
   "outputs": [],
   "source": [
    "animate(tracks_obj, grids, os.path.join(tmp_dir, 'tint_demo_anim'))"
   ]
  },
  {
   "cell_type": "markdown",
   "metadata": {},
   "source": [
    "## Clean Up"
   ]
  },
  {
   "cell_type": "code",
   "execution_count": null,
   "metadata": {
    "collapsed": true
   },
   "outputs": [],
   "source": [
    "shutil.rmtree(tmp_dir)"
   ]
  }
 ],
 "metadata": {
  "anaconda-cloud": {},
  "kernelspec": {
   "display_name": "Python 3",
   "language": "python",
   "name": "python3"
  },
  "language_info": {
   "codemirror_mode": {
    "name": "ipython",
    "version": 3
   },
   "file_extension": ".py",
   "mimetype": "text/x-python",
   "name": "python",
   "nbconvert_exporter": "python",
   "pygments_lexer": "ipython3",
   "version": "3.6.1"
  }
 },
 "nbformat": 4,
 "nbformat_minor": 1
}
